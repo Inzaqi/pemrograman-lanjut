{
  "cells": [
    {
      "cell_type": "markdown",
      "metadata": {
        "id": "view-in-github",
        "colab_type": "text"
      },
      "source": [
        "<a href=\"https://colab.research.google.com/github/Inzaqi/pemrograman-lanjut/blob/main/Selamat_Datang_di_Colaboratory.ipynb\" target=\"_parent\"><img src=\"https://colab.research.google.com/assets/colab-badge.svg\" alt=\"Open In Colab\"/></a>"
      ]
    },
    {
      "cell_type": "code",
      "source": [
        "import re\n",
        "\n",
        "with open('matrix.txt', 'r') as file:\n",
        "\n",
        "    ukuran_input_pertama = file.readline().rstrip().split()\n",
        "    n = int(ukuran_input_pertama[0])\n",
        "    m = int(ukuran_input_pertama[1])\n",
        "\n",
        "\n",
        "    matriks = []\n",
        "    for _ in range(n):\n",
        "        item_matriks = file.readline().rstrip()\n",
        "        matriks.append(item_matriks)\n",
        "\n",
        "hasil_dekode = \"\"\n",
        "\n",
        "for i in range(m):\n",
        "    for j in range(n):\n",
        "        try:\n",
        "            hasil_dekode += matriks[j][i]\n",
        "        except IndexError:\n",
        "            pass\n",
        "\n",
        "pola = r'(?<=[\\w])[^\\w]+(?=[\\w])'\n",
        "\n",
        "cocokan = re.findall(pola, hasil_dekode)\n",
        "\n",
        "for x in cocokan:\n",
        "    hasil_dekode = hasil_dekode.replace(x, ' ', 1)\n",
        "\n",
        "print(hasil_dekode)"
      ],
      "metadata": {
        "id": "Wv5UIjqwXNnC",
        "outputId": "7944d77f-f254-4169-a26d-34ce9b83070e",
        "colab": {
          "base_uri": "https://localhost:8080/"
        }
      },
      "execution_count": 11,
      "outputs": [
        {
          "output_type": "stream",
          "name": "stdout",
          "text": [
            "This is Matrix#%!\n"
          ]
        }
      ]
    }
  ],
  "metadata": {
    "colab": {
      "name": "Selamat Datang di Colaboratory",
      "toc_visible": true,
      "provenance": [],
      "include_colab_link": true
    },
    "kernelspec": {
      "display_name": "Python 3",
      "name": "python3"
    }
  },
  "nbformat": 4,
  "nbformat_minor": 0
}